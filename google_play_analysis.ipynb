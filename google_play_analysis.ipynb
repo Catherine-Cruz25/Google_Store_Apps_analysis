{
 "cells": [
  {
   "cell_type": "markdown",
   "id": "d9c140f4",
   "metadata": {},
   "source": [
    "# 📱 Google Play Store Data Analysis\n",
    "This project analyzes free Android apps available on the Google Play Store to identify app profiles that are more likely to attract users. This helps developers at an ad-based company make data-driven decisions."
   ]
  },
  {
   "cell_type": "code",
   "execution_count": null,
   "id": "5a3b285f",
   "metadata": {},
   "outputs": [],
   "source": [
    "import pandas as pd\n",
    "import matplotlib.pyplot as plt\n",
    "import seaborn as sns\n",
    "\n",
    "sns.set(style='whitegrid')"
   ]
  },
  {
   "cell_type": "markdown",
   "id": "3ccb1e27",
   "metadata": {},
   "source": [
    "## 📥 Load and Inspect Data"
   ]
  },
  {
   "cell_type": "code",
   "execution_count": null,
   "id": "c06b87cd",
   "metadata": {},
   "outputs": [],
   "source": [
    "store_df = pd.read_csv('../data/googleplaystore.csv')\n",
    "reviews_df = pd.read_csv('../data/googleplaystore_user_reviews.csv')\n",
    "\n",
    "store_df.head()"
   ]
  },
  {
   "cell_type": "markdown",
   "id": "f6701bd7",
   "metadata": {},
   "source": [
    "## 🧹 Data Cleaning\n",
    "We'll clean the dataset to focus only on free apps with valid installs and reviews."
   ]
  },
  {
   "cell_type": "code",
   "execution_count": null,
   "id": "c562d423",
   "metadata": {},
   "outputs": [],
   "source": [
    "\n",
    "store_clean = store_df.copy()\n",
    "store_clean.drop_duplicates(inplace=True)\n",
    "store_clean = store_clean.dropna(subset=['Rating', 'Reviews', 'Installs', 'Type'])\n",
    "store_clean = store_clean[store_clean['Type'] == 'Free']\n",
    "store_clean['Installs'] = store_clean['Installs'].str.replace('[+,]', '', regex=True).astype(int)\n",
    "store_clean['Reviews'] = pd.to_numeric(store_clean['Reviews'], errors='coerce')\n",
    "store_clean = store_clean.dropna(subset=['Reviews'])\n",
    "store_clean['Reviews'] = store_clean['Reviews'].astype(int)\n",
    "store_clean.reset_index(drop=True, inplace=True)\n",
    "store_clean.info()\n"
   ]
  },
  {
   "cell_type": "markdown",
   "id": "f2dff7dc",
   "metadata": {},
   "source": [
    "## 📊 Top Categories by Total Installs"
   ]
  },
  {
   "cell_type": "code",
   "execution_count": null,
   "id": "0fb24028",
   "metadata": {},
   "outputs": [],
   "source": [
    "\n",
    "top_categories = store_clean.groupby('Category')['Installs'].sum().sort_values(ascending=False).reset_index()\n",
    "top_categories.head(10)\n"
   ]
  },
  {
   "cell_type": "code",
   "execution_count": null,
   "id": "af0186b0",
   "metadata": {},
   "outputs": [],
   "source": [
    "\n",
    "plt.figure(figsize=(12,6))\n",
    "sns.barplot(data=top_categories.head(10), x='Installs', y='Category', palette='viridis')\n",
    "plt.title('Top 10 Categories by Installs')\n",
    "plt.xlabel('Total Installs')\n",
    "plt.ylabel('Category')\n",
    "plt.tight_layout()\n",
    "plt.show()\n"
   ]
  },
  {
   "cell_type": "markdown",
   "id": "4260719d",
   "metadata": {},
   "source": [
    "## 🌟 Ratings vs Installs\n",
    "Are highly rated apps downloaded more?"
   ]
  },
  {
   "cell_type": "code",
   "execution_count": null,
   "id": "456407ec",
   "metadata": {},
   "outputs": [],
   "source": [
    "\n",
    "plt.figure(figsize=(10,6))\n",
    "sns.scatterplot(data=store_clean, x='Rating', y='Installs', alpha=0.5)\n",
    "plt.title('Rating vs Installs')\n",
    "plt.xlabel('App Rating')\n",
    "plt.ylabel('Number of Installs')\n",
    "plt.tight_layout()\n",
    "plt.show()\n"
   ]
  },
  {
   "cell_type": "markdown",
   "id": "361f7c32",
   "metadata": {},
   "source": [
    "## 🎮 Genre-wise Average Installs"
   ]
  },
  {
   "cell_type": "code",
   "execution_count": null,
   "id": "ba195332",
   "metadata": {},
   "outputs": [],
   "source": [
    "\n",
    "genre_avg = store_clean.groupby('Genres')['Installs'].mean().sort_values(ascending=False).reset_index()\n",
    "genre_avg.head(10)\n"
   ]
  }
 ],
 "metadata": {},
 "nbformat": 4,
 "nbformat_minor": 5
}
